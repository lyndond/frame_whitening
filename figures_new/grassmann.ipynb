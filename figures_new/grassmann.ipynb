{
 "cells": [
  {
   "cell_type": "code",
   "execution_count": null,
   "metadata": {},
   "outputs": [],
   "source": [
    "import matplotlib.pyplot as plt\n",
    "import numpy as np\n",
    "\n",
    "import frame_whitening as fw\n",
    "import frame_whitening.simulation_new as sim"
   ]
  },
  {
   "cell_type": "code",
   "execution_count": null,
   "metadata": {},
   "outputs": [],
   "source": [
    "def simulate_one(n, eta_g, n_batch, batch_size, frame):\n",
    "    # setup\n",
    "    k = n * (n + 1) // 2\n",
    "    print(f\"n = {n}, k = {k}\")\n",
    "    V, _ = np.linalg.qr(np.random.randn(n, n))\n",
    "    s = np.linspace(1, 5, n) + np.random.randn(n) * 0.1\n",
    "    Cxx = V @ np.diag(s) @ V.T\n",
    "    Lxx = np.linalg.cholesky(Cxx)\n",
    "    kappa0 = np.linalg.cond(Cxx)\n",
    "    if frame == \"GRASSMANN\":\n",
    "        W, G, res = fw.get_grassmannian(n, k, niter=400)\n",
    "    elif frame == \"RANDN\":\n",
    "        W = np.random.randn(n, k)\n",
    "        W = fw.normalize_frame(W)\n",
    "\n",
    "    # run whitening\n",
    "    error = []\n",
    "    g = np.ones(k)\n",
    "    Inn = np.eye(n)\n",
    "    for _ in range(n_batch):\n",
    "        X = fw.sample_x(Lxx, batch_size)\n",
    "        Y = np.linalg.solve(W @ np.diag(g) @ W.T, X)\n",
    "        Z = W.T @ Y\n",
    "        dg = np.mean(Z**2, -1) - 1.0\n",
    "        g += eta_g * dg\n",
    "        Cyy = np.cov(Y)\n",
    "        err_sq = np.linalg.norm(Inn - Cyy) ** 2\n",
    "        error.append(err_sq)\n",
    "    err = np.array(error) / n**2\n",
    "\n",
    "    X_test = fw.sample_x(Lxx, 4096)\n",
    "    Y_test = np.linalg.solve(W @ np.diag(g) @ W.T, X_test)\n",
    "    Cyy = np.cov(Y_test)\n",
    "    error_fro = (np.linalg.norm(Inn - Cyy) ** 2) / n**2\n",
    "    error_trace = (np.trace(Inn - Cyy)) / n\n",
    "    error_bures = fw.bures_dist(Inn, Cyy) ** 2\n",
    "    df_sim = pd.DataFrame(\n",
    "        [\n",
    "            {\n",
    "                \"n\": n,\n",
    "                \"k\": k,\n",
    "                \"n_batch\": n_batch,\n",
    "                \"batch_size\": batch_size,\n",
    "                \"eta_g\": float(eta_g),\n",
    "                \"kappa0\": float(kappa0),\n",
    "                \"error\": err,\n",
    "                \"error_fro\": float(error_fro),\n",
    "                \"error_trace\": float(error_trace),\n",
    "                \"error_bures\": float(error_bures),\n",
    "                \"frame\": frame,\n",
    "            }\n",
    "        ],\n",
    "    )\n",
    "    return df_sim"
   ]
  }
 ],
 "metadata": {
  "kernelspec": {
   "display_name": "Python 3 (ipykernel)",
   "language": "python",
   "name": "python3"
  },
  "orig_nbformat": 4
 },
 "nbformat": 4,
 "nbformat_minor": 2
}
