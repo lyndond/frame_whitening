{
 "cells": [
  {
   "cell_type": "code",
   "execution_count": 12,
   "metadata": {},
   "outputs": [],
   "source": [
    "import matplotlib.pyplot as plt\n",
    "import numpy as np\n",
    "import sklearn.datasets\n",
    "import seaborn as sns\n",
    "\n",
    "import frame_whitening as fw\n",
    "import frame_whitening.simulation_new as sim\n",
    "\n",
    "data = sklearn.datasets.load_digits()\n",
    "\n",
    "idx = 99\n",
    "# plt.imshow(data.data[idx].reshape(8, 8))\n",
    "\n",
    "mu = data.data.mean(0, keepdims=True)\n",
    "X0 = data.data - mu\n",
    "\n",
    "I = np.eye(X0.shape[1])\n",
    "alpha = 0.0001\n",
    "\n",
    "# whiten X0\n",
    "Cxx = np.cov(X0.T)\n",
    "L, V = np.linalg.eigh(Cxx)\n",
    "L = np.clip(L, 0, np.inf) + alpha\n",
    "\n",
    "L_inv_sqrt = np.diag(np.sqrt(1 / L))\n",
    "Mw = V @ L_inv_sqrt @ V.T\n",
    "\n",
    "X = X0 @ Mw\n",
    "Cww = np.cov(X.T)\n",
    "\n",
    "W64 = fw.normalize_frame(np.random.randn(64, 64*(64+1)//2))\n",
    "Lxx = np.linalg.cholesky(alpha * I + Cxx)\n",
    "g, g_all, errors, variances = sim.simulate([Lxx], W64, 0, 5000, .01, g0=None, online=False, seed=42069)"
   ]
  },
  {
   "cell_type": "code",
   "execution_count": 10,
   "metadata": {},
   "outputs": [
    {
     "data": {
      "image/png": "[encoded data removed]",
      "text/plain": [
       "<Figure size 432x216 with 2 Axes>"
      ]
     },
     "metadata": {
      "needs_background": "light"
     },
     "output_type": "display_data"
    }
   ],
   "source": [
    "with sns.plotting_context(\"paper\", font_scale=1.5):\n",
    "    fig, ax = plt.subplots(1, 2, figsize=(6, 3), sharex=\"all\", sharey=\"all\")\n",
    "    idx = 69\n",
    "    ax[0].imshow(X0[idx].reshape(8, 8) + mu.reshape(8, 8), cmap=\"bone\")\n",
    "    ax[1].imshow(X[idx].reshape(8, 8) + mu.reshape(8, 8), cmap=\"bone\")\n",
    "\n",
    "    ax[0].set(title=f\"Original {data.target[idx]}\")\n",
    "    ax[1].set(title=f\"Whitened {data.target[idx]}\")"
   ]
  }
 ],
 "metadata": {
  "kernelspec": {
   "display_name": "Python 3 (ipykernel)",
   "language": "python",
   "name": "python3"
  },
  "orig_nbformat": 4
 },
 "nbformat": 4,
 "nbformat_minor": 2
}
