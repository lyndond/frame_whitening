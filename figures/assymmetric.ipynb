{
 "cells": [
  {
   "cell_type": "code",
   "execution_count": 22,
   "metadata": {},
   "outputs": [],
   "source": [
    "from typing import Tuple, Optional, List, Callable\n",
    "\n",
    "import numpy as np\n",
    "import numpy.typing as npt\n",
    "import matplotlib.pyplot as plt\n",
    "import seaborn as sns\n",
    "import scipy as sp\n",
    "\n",
    "import frame_whitening as fw\n",
    "import frame_whitening.plot as fwplt\n",
    "from frame_whitening import stats\n",
    "from frame_whitening import types\n"
   ]
  },
  {
   "cell_type": "code",
   "execution_count": 42,
   "metadata": {},
   "outputs": [
    {
     "name": "stderr",
     "output_type": "stream",
     "text": [
      "No artists with labels found to put in legend.  Note that artists whose label start with an underscore are ignored when legend() is called with no argument.\n"
     ]
    },
    {
     "data": {
      "image/png": "[encoded data removed]",
      "text/plain": [
       "<Figure size 432x288 with 1 Axes>"
      ]
     },
     "metadata": {
      "needs_background": "light"
     },
     "output_type": "display_data"
    }
   ],
   "source": [
    "np.random.seed(0)\n",
    "W = fw.get_mercedes_frame()\n",
    "A = np.linalg.qr(np.random.randn(2, 2))[0]\n",
    "\n",
    "with sns.plotting_context(\"paper\"):\n",
    "    fig, ax = plt.subplots(1, 1)\n",
    "    fwplt.plot_frame2d(A@W, ax=ax, color='k')\n",
    "    fwplt.plot_frame2d(W, ax=ax, color='r')\n",
    "    ax.axis(\"square\")\n",
    "    ax.set(xlim=(-2, 2), ylim=(-2, 2))\n",
    "    ax.legend()\n",
    "    sns.despine()"
   ]
  },
  {
   "cell_type": "code",
   "execution_count": 59,
   "metadata": {},
   "outputs": [],
   "source": [
    "from functools import partial\n",
    "\n",
    "def _get_dg_pow_asymmetric_feedforward(\n",
    "    g: npt.NDArray[np.float64],\n",
    "    W: npt.NDArray[np.float64],\n",
    "    y: npt.NDArray[np.float64],\n",
    "    A: npt.NDArray[np.float64],\n",
    "    alpha: float = 0.0,\n",
    "    beta: float = 0.0,\n",
    ") -> npt.NDArray[np.float64]:\n",
    "    \"\"\"Compute gradient of objective wrt g when f(g) = g^{alpha+1}.\"\"\"\n",
    "    w0 = np.sum(W**2, axis=0)\n",
    "    z = W.T @ np.linalg.inv(A) @ y\n",
    "    dv = (z**2).mean(axis=-1) - w0\n",
    "    dg = -(alpha + 1) * (g**alpha) * dv + beta * np.sign(g ** (1 + alpha))\n",
    "    return dg\n",
    "\n",
    "\n",
    "def _get_y_pow_asymmetric_feedforward(\n",
    "    g: npt.NDArray[np.float64],\n",
    "    W: npt.NDArray[np.float64],\n",
    "    x: npt.NDArray[np.float64],\n",
    "    A: npt.NDArray[np.float64],\n",
    "    alpha: float = 0,\n",
    ") -> Tuple[npt.NDArray[np.float64], npt.NDArray[np.float64]]:\n",
    "    \"\"\"Compute steady-state y for a given x and g and alpha.\n",
    "    With asymmetric feeforward weights.\n",
    "    f(g) = g^{alpha+1}\n",
    "    \"\"\"\n",
    "    G = np.diag(g ** (alpha + 1))\n",
    "    y = A @ np.linalg.inv(W @ G @ W.T) @ x\n",
    "    return y, G\n",
    "\n",
    "def _get_y_pow_asymmetric_feedback(\n",
    "    g: npt.NDArray[np.float64],\n",
    "    W: npt.NDArray[np.float64],\n",
    "    x: npt.NDArray[np.float64],\n",
    "    A: npt.NDArray[np.float64],\n",
    "    alpha: float = 0,\n",
    ") -> Tuple[npt.NDArray[np.float64], npt.NDArray[np.float64]]:\n",
    "    \"\"\"Compute steady-state y for a given x and g and alpha.\n",
    "    With asymmetric feedback weights.\n",
    "    f(g) = g^{alpha+1}\n",
    "    \"\"\"\n",
    "    G = np.diag(g ** (alpha + 1))\n",
    "    y =  np.linalg.inv(W @ G @ W.T) @ A @ x\n",
    "    return y, G"
   ]
  },
  {
   "cell_type": "code",
   "execution_count": 43,
   "metadata": {},
   "outputs": [],
   "source": [
    "def simulate(\n",
    "    cholesky_list: List[npt.NDArray[np.float64]],\n",
    "    W: npt.NDArray[np.float64],\n",
    "    get_y: Callable[..., Tuple[npt.NDArray[np.float64], npt.NDArray[np.float64]]],\n",
    "    get_dg: Callable[..., npt.NDArray[np.float64]],\n",
    "    batch_size: int = 64,\n",
    "    n_batch: int = 1024,\n",
    "    lr_g: float = 5e-3,\n",
    "    g0: Optional[npt.NDArray[np.float64]] = None,\n",
    "    seed: Optional[float] = None,\n",
    ") -> Tuple[npt.NDArray[np.float64], npt.NDArray[np.float64], npt.NDArray[np.float64]]:\n",
    "    \"\"\"Simulate data from a given model. \"\"\"\n",
    "    if seed is not None:\n",
    "        np.random.seed(seed)\n",
    "\n",
    "    # initialize random set of gains g\n",
    "    N, K = W.shape\n",
    "    g = g0 if g0 is not None else np.ones(K)\n",
    "\n",
    "    g_all = []\n",
    "    g_last = []\n",
    "    errors = []\n",
    "    responses = []\n",
    "\n",
    "    # run simulation with minibatches\n",
    "    Ixx = np.eye(N)\n",
    "    for Lxx in cholesky_list:\n",
    "        Cxx = Lxx @ Lxx.T\n",
    "        for _ in range(n_batch):\n",
    "            x = stats.sample_x(Lxx, batch_size)  # draw a sample of x\n",
    "\n",
    "            y, G = get_y(g, W, x)\n",
    "            M = np.linalg.inv(W @ G @ W.T)\n",
    "            error = np.trace(np.abs(M @ Cxx @ M.T - Ixx)) / N\n",
    "            errors.append(error)\n",
    "\n",
    "            dg = get_dg(g, W, y)\n",
    "            g = g - lr_g * dg  # gradient descent\n",
    "            z = W.T @ y\n",
    "            responses.append((x.mean(-1), y.mean(-1), z.mean(-1)))\n",
    "            g_all.append(g)\n",
    "        g_last.append(g)\n",
    "\n",
    "    g_last = np.stack(g_last, 0)\n",
    "    g_all = np.stack(g_all, 0)\n",
    "    return g_last, g_all, errors  # type: ignore\n"
   ]
  },
  {
   "cell_type": "code",
   "execution_count": 54,
   "metadata": {},
   "outputs": [],
   "source": [
    "seed = 42069\n",
    "np.random.seed(seed)\n",
    "batch_size = 256\n",
    "n_batch = 10000\n",
    "lr_g = 5e-3\n",
    "n = 2\n",
    "\n",
    "Q = fw.rot2(np.deg2rad(35))\n",
    "kappa = 8\n",
    "Cxx0 = Q @ np.diag([kappa, 1]) @ Q.T * 1 / (np.sqrt(kappa))\n",
    "\n",
    "cholesky_list = [np.linalg.cholesky(C) for C in [Cxx0]]\n",
    "W = fw.get_mercedes_frame()\n",
    "N, K = W.shape\n",
    "\n",
    "g_opt = fw.compute_g_opt(sp.linalg.fractional_matrix_power(Cxx0, .5), W)"
   ]
  },
  {
   "cell_type": "code",
   "execution_count": 60,
   "metadata": {},
   "outputs": [],
   "source": [
    "alpha = 0.\n",
    "_, _get_dg_pow = fw.simulation.get_opt_funcs(types.FuncType.POWER)\n",
    "\n",
    "g0 = fw.simulation.init_g_const(0.1, 3, types.FuncType.POWER, alpha=alpha)\n",
    "g_last, g_all, errors = fw.simulation.simulate(\n",
    "    cholesky_list,\n",
    "    W,\n",
    "    partial(_get_y_pow_asymmetric_feedforward, A=A, alpha=alpha),\n",
    "    partial(_get_dg_pow_asymmetric_feedforward, A=A, alpha=alpha),\n",
    "    batch_size,\n",
    "    n_batch,\n",
    "    lr_g,\n",
    "    g0=g0,\n",
    "    seed=seed,\n",
    ")"
   ]
  },
  {
   "cell_type": "code",
   "execution_count": 61,
   "metadata": {},
   "outputs": [
    {
     "data": {
      "image/png": "[encoded data removed]",
      "text/plain": [
       "<Figure size 720x360 with 2 Axes>"
      ]
     },
     "metadata": {
      "needs_background": "light"
     },
     "output_type": "display_data"
    }
   ],
   "source": [
    "with sns.plotting_context(\"paper\"):\n",
    "    fig, ax = plt.subplots(1, 2, figsize=(10, 5))\n",
    "    ax[0].hlines(g_opt, 0, n_batch)\n",
    "    ax[0].plot(g_all)\n",
    "\n",
    "    ax[1].plot(errors)\n",
    "    ax[1].set(yscale=\"log\")\n",
    "    sns.despine()"
   ]
  }
 ],
 "metadata": {
  "kernelspec": {
   "display_name": "Python 3.9.12 ('frame')",
   "language": "python",
   "name": "python3"
  },
  "language_info": {
   "codemirror_mode": {
    "name": "ipython",
    "version": 3
   },
   "file_extension": ".py",
   "mimetype": "text/x-python",
   "name": "python",
   "nbconvert_exporter": "python",
   "pygments_lexer": "ipython3",
   "version": "3.9.12"
  },
  "orig_nbformat": 4,
  "vscode": {
   "interpreter": {
    "hash": "2f1bb58f39a33c2cf70b8da06848673a1882650722c75eeb079084b2a070eb1c"
   }
  }
 },
 "nbformat": 4,
 "nbformat_minor": 2
}
