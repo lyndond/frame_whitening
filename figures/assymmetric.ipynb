{
 "cells": [
  {
   "cell_type": "code",
   "execution_count": 7,
   "metadata": {},
   "outputs": [],
   "source": [
    "import matplotlib.pyplot as plt\n",
    "import seaborn as sns\n",
    "\n",
    "import frame_whitening as fw\n",
    "import frame_whitening.plot as fwplt"
   ]
  },
  {
   "cell_type": "code",
   "execution_count": 17,
   "metadata": {},
   "outputs": [
    {
     "data": {
      "image/png": "[encoded data removed]",
      "text/plain": [
       "<Figure size 432x288 with 1 Axes>"
      ]
     },
     "metadata": {
      "needs_background": "light"
     },
     "output_type": "display_data"
    }
   ],
   "source": [
    "W = fw.get_mercedes_frame()\n",
    "\n",
    "with sns.plotting_context(\"paper\"):\n",
    "    fig, ax = plt.subplots(1, 1)\n",
    "    fwplt.plot_frame2d(W, ax=ax)\n",
    "    ax.axis(\"square\")\n",
    "    ax.set(xlim=(-2, 2), ylim=(-2, 2))\n",
    "    sns.despine()"
   ]
  }
 ],
 "metadata": {
  "kernelspec": {
   "display_name": "Python 3.9.12 ('frame')",
   "language": "python",
   "name": "python3"
  },
  "language_info": {
   "codemirror_mode": {
    "name": "ipython",
    "version": 3
   },
   "file_extension": ".py",
   "mimetype": "text/x-python",
   "name": "python",
   "nbconvert_exporter": "python",
   "pygments_lexer": "ipython3",
   "version": "3.9.12"
  },
  "orig_nbformat": 4,
  "vscode": {
   "interpreter": {
    "hash": "2f1bb58f39a33c2cf70b8da06848673a1882650722c75eeb079084b2a070eb1c"
   }
  }
 },
 "nbformat": 4,
 "nbformat_minor": 2
}
