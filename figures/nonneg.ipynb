{
 "cells": [
  {
   "cell_type": "code",
   "execution_count": 2,
   "metadata": {},
   "outputs": [],
   "source": [
    "import matplotlib.pyplot as plt\n",
    "import numpy as np\n",
    "import scipy as sp\n",
    "import seaborn as sns\n",
    "\n",
    "import frame_whitening as fw\n",
    "import frame_whitening.simulation_new as fws\n",
    "import frame_whitening.plot as fwplt"
   ]
  },
  {
   "cell_type": "code",
   "execution_count": 3,
   "metadata": {},
   "outputs": [],
   "source": [
    "seed = 42069\n",
    "np.random.seed(seed)\n",
    "batch_size = 256\n",
    "n_batch = 10000\n",
    "lr_g = 5e-4\n",
    "n = 2\n",
    "\n",
    "Q = fw.rot2(np.deg2rad(35))\n",
    "kappa = 15\n",
    "Cxx0 = Q @ np.diag([kappa, 1]) @ Q.T * 1 / (np.sqrt(kappa))\n",
    "\n",
    "cholesky_list = [np.linalg.cholesky(C) for C in [Cxx0]]\n",
    "W = fw.get_mercedes_frame()\n",
    "N, K = W.shape\n",
    "\n",
    "g_opt = fw.compute_g_opt(sp.linalg.fractional_matrix_power(Cxx0, .5), W)"
   ]
  },
  {
   "cell_type": "code",
   "execution_count": null,
   "metadata": {},
   "outputs": [],
   "source": [
    "# simulate data\n",
    "batch_size = -1\n",
    "n_batch = 2048\n",
    "step_skip = 1\n",
    "g_last, g_all, errors, variances = fws.simulate(\n",
    "                                        cholesky_list=[Lxx], \n",
    "                                        W=W, \n",
    "                                        batch_size=-1, \n",
    "                                        n_batch=n_batch, \n",
    "                                        lr_g=3E-2,\n",
    "                                        g0=None, \n",
    "                                        online=False, \n",
    "                                        clamp=False,\n",
    "                                        alpha=1.,\n",
    "                                        save_every=step_skip,\n",
    "                                    )"
   ]
  }
 ],
 "metadata": {
  "kernelspec": {
   "display_name": "Python 3 (ipykernel)",
   "language": "python",
   "name": "python3"
  },
  "language_info": {
   "codemirror_mode": {
    "name": "ipython",
    "version": 3
   },
   "file_extension": ".py",
   "mimetype": "text/x-python",
   "name": "python",
   "nbconvert_exporter": "python",
   "pygments_lexer": "ipython3",
   "version": "3.10.8"
  },
  "orig_nbformat": 4
 },
 "nbformat": 4,
 "nbformat_minor": 2
}
