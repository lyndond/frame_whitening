{
 "cells": [
  {
   "cell_type": "code",
   "execution_count": 1,
   "metadata": {},
   "outputs": [],
   "source": [
    "import os\n",
    "os.environ[\"OMP_NUM_THREADS\"] = \"1\"\n",
    "\n",
    "import matplotlib.pyplot as plt\n",
    "import multiprocessing\n",
    "import numpy as np\n",
    "import numpy.typing as npt\n",
    "from tqdm import tqdm\n",
    "import seaborn as sns\n",
    "\n",
    "import frame_whitening as fw\n",
    "import frame_whitening.simulation as fws"
   ]
  },
  {
   "cell_type": "code",
   "execution_count": 17,
   "metadata": {},
   "outputs": [],
   "source": [
    "def simulate_one(\n",
    "    n: int, \n",
    "    eta_g: float, \n",
    "    n_batch: int, \n",
    "    frame: str,\n",
    "    seed: int=0\n",
    ") -> npt.NDArray[np.float64]:\n",
    "    \"\"\"Simulate one run of whitening algorithm with random cov and given frame.\"\"\"\n",
    "    assert frame in [\"GRASSMANN\", \"RANDN\"]\n",
    "    np.random.seed(seed)\n",
    "    # setup\n",
    "    k = n * (n + 1) // 2\n",
    "    rng = np.random.default_rng(seed=seed)\n",
    "    V, _ = np.linalg.qr(rng.standard_normal((n, n)))\n",
    "    s = np.exp((np.linspace(-3, 3, n) + rng.standard_normal((n, )))*.1) \n",
    "\n",
    "    Cxx = V @ np.diag(s) @ V.T\n",
    "    if frame == \"GRASSMANN\":\n",
    "        W, _ = fw.get_grassmannian(n, k, rng)\n",
    "    else: # frame == \"RANDN\":\n",
    "        W = rng.standard_normal((n, k))\n",
    "    W = fw.normalize_frame(W)\n",
    "\n",
    "    _, _, errors, _ = fws.adapt_covariance(\n",
    "        [Cxx], W, 0, n_batch, eta_g, None, False, False, 1., verbose=False\n",
    "        )\n",
    "\n",
    "    return errors\n",
    "\n",
    "def simulate_many(\n",
    "    n: int,\n",
    "    n_steps: int,\n",
    "    n_repeats: int, \n",
    "    lr: float,\n",
    "    frame: str,\n",
    ") -> npt.NDArray[np.float64]:\n",
    "    \"\"\"Run all simulations in parallel.\"\"\"\n",
    "\n",
    "    with multiprocessing.Pool() as pool:\n",
    "        all_errors = []\n",
    "        pbar = tqdm(total=n_repeats)\n",
    "        for errors in pool.starmap(simulate_one, [(n, lr, n_steps, frame, i) for i in range(n_repeats)]):\n",
    "            if len(errors) != n_steps:\n",
    "                errors = errors + [errors[-1]] * (n_steps - len(errors))\n",
    "            all_errors.append(errors)\n",
    "            pbar.update(1)\n",
    "    all_errors = np.array(all_errors)\n",
    "    return all_errors"
   ]
  },
  {
   "cell_type": "code",
   "execution_count": 23,
   "metadata": {},
   "outputs": [
    {
     "name": "stderr",
     "output_type": "stream",
     "text": [
      "100%|█████████████████████████████████████████████████████████████████████████████████████████████████████████████████████████████████████████████| 100/100 [00:03<00:00, 31.64it/s]\n",
      "100%|█████████████████████████████████████████████████████████████████████████████████████████████████████████████████████████████████████████████| 100/100 [00:07<00:00, 14.05it/s]\n"
     ]
    }
   ],
   "source": [
    "n_repeats = 100\n",
    "n = 16\n",
    "n_steps = 8096\n",
    "lr = 5E-3\n",
    "all_errors_randn = simulate_many(n, n_steps, n_repeats, lr, \"RANDN\")\n",
    "all_errors_grassmann = simulate_many(n, n_steps, n_repeats, lr, \"GRASSMANN\")"
   ]
  },
  {
   "cell_type": "code",
   "execution_count": 26,
   "metadata": {},
   "outputs": [
    {
     "data": {
      "image/png": "[encoded data removed]",
      "text/plain": [
       "<Figure size 400x300 with 1 Axes>"
      ]
     },
     "metadata": {},
     "output_type": "display_data"
    }
   ],
   "source": [
    "# fmt: off\n",
    "def get_mean_sem(x):\n",
    "    return np.mean(x, axis=0), np.std(x, axis=0) / np.sqrt(x.shape[0])\n",
    "\n",
    "with sns.plotting_context(\"paper\", font_scale=1):\n",
    "    fig, ax = plt.subplots(1, 1, figsize=(4, 3) ,dpi=100)\n",
    "\n",
    "    mu_randn, sig_randn = get_mean_sem(all_errors_randn)\n",
    "    mu_opt, sig_opt = get_mean_sem(all_errors_grassmann)\n",
    "\n",
    "    ax.plot(range(len(mu_randn)), mu_randn, color=\"C0\", label=\"Random\")\n",
    "    ax.fill_between(range(len(mu_randn)), mu_randn - sig_randn, mu_randn + sig_randn, alpha=0.5)\n",
    "\n",
    "    ax.plot(range(len(mu_opt)), mu_opt, color=\"C3\", label=\"Optimized\")\n",
    "    ax.fill_between(range(len(mu_opt)), mu_opt - sig_opt, mu_opt + sig_opt, color=\"C3\", alpha=0.5)\n",
    "\n",
    "    ax.set(yscale=\"log\", ylabel=r\"$\\frac{1}{N^2}\\|{\\bf C}_{yy} - {\\bf I}_N\\|_F^2$\", \n",
    "    xlabel=\"Step\", xticks=(0, 5000))\n",
    "\n",
    "    ax.legend(title=r\"${\\bf W}$\", fontsize=8, loc=\"upper right\")\n",
    "\n",
    "    sns.despine()\n",
    "# fmt: on"
   ]
  }
 ],
 "metadata": {
  "kernelspec": {
   "display_name": "Python 3 (ipykernel)",
   "language": "python",
   "name": "python3"
  },
  "language_info": {
   "codemirror_mode": {
    "name": "ipython",
    "version": 3
   },
   "file_extension": ".py",
   "mimetype": "text/x-python",
   "name": "python",
   "nbconvert_exporter": "python",
   "pygments_lexer": "ipython3",
   "version": "3.10.8"
  },
  "orig_nbformat": 4
 },
 "nbformat": 4,
 "nbformat_minor": 2
}
